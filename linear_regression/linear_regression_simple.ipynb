{
 "cells": [
  {
   "cell_type": "code",
   "execution_count": 29,
   "id": "fbed0534-b2ba-4def-be07-ea24450476c7",
   "metadata": {},
   "outputs": [],
   "source": [
    "import pandas as pd\n",
    "import numpy as np\n",
    "import joblib as jb\n",
    "from matplotlib import pyplot as plt\n",
    "from sklearn.model_selection import train_test_split"
   ]
  },
  {
   "cell_type": "code",
   "execution_count": 30,
   "id": "e16604df-0ac1-4c68-b97b-e7aede53f0a8",
   "metadata": {},
   "outputs": [
    {
     "data": {
      "text/html": [
       "<div>\n",
       "<style scoped>\n",
       "    .dataframe tbody tr th:only-of-type {\n",
       "        vertical-align: middle;\n",
       "    }\n",
       "\n",
       "    .dataframe tbody tr th {\n",
       "        vertical-align: top;\n",
       "    }\n",
       "\n",
       "    .dataframe thead th {\n",
       "        text-align: right;\n",
       "    }\n",
       "</style>\n",
       "<table border=\"1\" class=\"dataframe\">\n",
       "  <thead>\n",
       "    <tr style=\"text-align: right;\">\n",
       "      <th></th>\n",
       "      <th>size_sqrft</th>\n",
       "      <th>sold_price</th>\n",
       "    </tr>\n",
       "  </thead>\n",
       "  <tbody>\n",
       "    <tr>\n",
       "      <th>0</th>\n",
       "      <td>743</td>\n",
       "      <td>480000</td>\n",
       "    </tr>\n",
       "    <tr>\n",
       "      <th>1</th>\n",
       "      <td>499</td>\n",
       "      <td>521990</td>\n",
       "    </tr>\n",
       "    <tr>\n",
       "      <th>2</th>\n",
       "      <td>499</td>\n",
       "      <td>419990</td>\n",
       "    </tr>\n",
       "    <tr>\n",
       "      <th>3</th>\n",
       "      <td>549</td>\n",
       "      <td>470000</td>\n",
       "    </tr>\n",
       "    <tr>\n",
       "      <th>4</th>\n",
       "      <td>813</td>\n",
       "      <td>640000</td>\n",
       "    </tr>\n",
       "  </tbody>\n",
       "</table>\n",
       "</div>"
      ],
      "text/plain": [
       "   size_sqrft  sold_price\n",
       "0         743      480000\n",
       "1         499      521990\n",
       "2         499      419990\n",
       "3         549      470000\n",
       "4         813      640000"
      ]
     },
     "execution_count": 30,
     "metadata": {},
     "output_type": "execute_result"
    }
   ],
   "source": [
    "df = pd.read_csv(\"house_data.csv\")\n",
    "df.head()"
   ]
  },
  {
   "cell_type": "code",
   "execution_count": 31,
   "id": "120caedb",
   "metadata": {},
   "outputs": [],
   "source": [
    "size_sqrft = df.iloc[:, :-1].values\n",
    "sold_price = df.iloc[:, 1].values"
   ]
  },
  {
   "cell_type": "code",
   "execution_count": 32,
   "id": "36661123-b2a5-49ac-9746-2b74fab7aa99",
   "metadata": {},
   "outputs": [
    {
     "data": {
      "text/plain": [
       "array([[813],\n",
       "       [657],\n",
       "       [499],\n",
       "       [600],\n",
       "       [624],\n",
       "       [549],\n",
       "       [743],\n",
       "       [599]])"
      ]
     },
     "execution_count": 32,
     "metadata": {},
     "output_type": "execute_result"
    }
   ],
   "source": [
    "size_sqrft_train, size_sqrft_test, sold_price_train, sold_price_test = train_test_split(size_sqrft, sold_price, test_size=0.2, random_state=0)\n",
    "size_sqrft_train"
   ]
  },
  {
   "cell_type": "code",
   "execution_count": 33,
   "metadata": {},
   "outputs": [
    {
     "data": {
      "text/plain": [
       "LinearRegression()"
      ]
     },
     "execution_count": 33,
     "metadata": {},
     "output_type": "execute_result"
    }
   ],
   "source": [
    "from sklearn.linear_model import LinearRegression\n",
    "regressor = LinearRegression()\n",
    "regressor.fit(size_sqrft_train, sold_price_train)"
   ]
  },
  {
   "cell_type": "code",
   "execution_count": 34,
   "id": "f46dddb2",
   "metadata": {},
   "outputs": [],
   "source": [
    "intercept = regressor.intercept_"
   ]
  },
  {
   "cell_type": "code",
   "execution_count": 35,
   "id": "d05e68d9",
   "metadata": {},
   "outputs": [],
   "source": [
    "slope = regressor.coef_"
   ]
  },
  {
   "cell_type": "code",
   "execution_count": 36,
   "id": "dd9253cc",
   "metadata": {},
   "outputs": [
    {
     "data": {
      "text/plain": [
       "array([492221.28181831])"
      ]
     },
     "execution_count": 36,
     "metadata": {},
     "output_type": "execute_result"
    }
   ],
   "source": [
    "regressor.predict([[500]])"
   ]
  },
  {
   "cell_type": "code",
   "execution_count": 37,
   "id": "143731de",
   "metadata": {},
   "outputs": [
    {
     "data": {
      "text/plain": [
       "['linear_regression_model']"
      ]
     },
     "execution_count": 37,
     "metadata": {},
     "output_type": "execute_result"
    }
   ],
   "source": [
    "jb.dump(regressor,'linear_regression_model')"
   ]
  },
  {
   "cell_type": "code",
   "execution_count": 38,
   "id": "78e4b742",
   "metadata": {},
   "outputs": [],
   "source": [
    "mj = jb.load('linear_regression_model')"
   ]
  },
  {
   "cell_type": "code",
   "execution_count": 39,
   "id": "9102b7be",
   "metadata": {},
   "outputs": [
    {
     "data": {
      "text/plain": [
       "array([492221.28181831])"
      ]
     },
     "execution_count": 39,
     "metadata": {},
     "output_type": "execute_result"
    }
   ],
   "source": [
    "mj.predict([[500]])"
   ]
  },
  {
   "cell_type": "code",
   "execution_count": 40,
   "id": "60826233",
   "metadata": {},
   "outputs": [],
   "source": [
    "def predict(x):\n",
    "    return slope * x + intercept"
   ]
  },
  {
   "cell_type": "code",
   "execution_count": 41,
   "id": "94826e33",
   "metadata": {},
   "outputs": [],
   "source": [
    "fit_line = predict(df[\"size_sqrft\"])"
   ]
  },
  {
   "cell_type": "code",
   "execution_count": 42,
   "id": "26a1a412",
   "metadata": {},
   "outputs": [
    {
     "data": {
      "image/png": "[encoded data removed]",
      "text/plain": [
       "<Figure size 432x288 with 1 Axes>"
      ]
     },
     "metadata": {
      "needs_background": "light"
     },
     "output_type": "display_data"
    }
   ],
   "source": [
    "plt.scatter(df[\"size_sqrft\"], df[\"sold_price\"], color = 'g',s = 100)\n",
    "plt.plot(df[\"size_sqrft\"],fit_line)\n",
    "plt.xlabel('SQFT')\n",
    "plt.ylabel('Sold Price')\n",
    "plt.title('SQFT vs Sold Price', fontsize = 16)\n",
    "plt.show()"
   ]
  }
 ],
 "metadata": {
  "kernelspec": {
   "display_name": "Python 3 (ipykernel)",
   "language": "python",
   "name": "python3"
  },
  "language_info": {
   "codemirror_mode": {
    "name": "ipython",
    "version": 3
   },
   "file_extension": ".py",
   "mimetype": "text/x-python",
   "name": "python",
   "nbconvert_exporter": "python",
   "pygments_lexer": "ipython3",
   "version": "3.7.9"
  }
 },
 "nbformat": 4,
 "nbformat_minor": 5
}
